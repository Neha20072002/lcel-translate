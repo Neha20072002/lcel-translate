{
 "cells": [
  {
   "cell_type": "code",
   "execution_count": 2,
   "metadata": {},
   "outputs": [
    {
     "name": "stdout",
     "output_type": "stream",
     "text": [
      "Requirement already satisfied: langchain in d:\\prog\\aiml proj\\lcel\\venv\\lib\\site-packages (0.2.14)\n",
      "Requirement already satisfied: async-timeout<5.0.0,>=4.0.0 in d:\\prog\\aiml proj\\lcel\\venv\\lib\\site-packages (from langchain) (4.0.3)\n",
      "Requirement already satisfied: PyYAML>=5.3 in d:\\prog\\aiml proj\\lcel\\venv\\lib\\site-packages (from langchain) (6.0.2)\n",
      "Requirement already satisfied: SQLAlchemy<3,>=1.4 in d:\\prog\\aiml proj\\lcel\\venv\\lib\\site-packages (from langchain) (2.0.32)\n",
      "Requirement already satisfied: langsmith<0.2.0,>=0.1.17 in d:\\prog\\aiml proj\\lcel\\venv\\lib\\site-packages (from langchain) (0.1.99)\n",
      "Requirement already satisfied: tenacity!=8.4.0,<9.0.0,>=8.1.0 in d:\\prog\\aiml proj\\lcel\\venv\\lib\\site-packages (from langchain) (8.5.0)\n",
      "Requirement already satisfied: langchain-core<0.3.0,>=0.2.32 in d:\\prog\\aiml proj\\lcel\\venv\\lib\\site-packages (from langchain) (0.2.32)\n",
      "Requirement already satisfied: requests<3,>=2 in d:\\prog\\aiml proj\\lcel\\venv\\lib\\site-packages (from langchain) (2.32.3)\n",
      "Requirement already satisfied: aiohttp<4.0.0,>=3.8.3 in d:\\prog\\aiml proj\\lcel\\venv\\lib\\site-packages (from langchain) (3.10.3)\n",
      "Requirement already satisfied: pydantic<3,>=1 in d:\\prog\\aiml proj\\lcel\\venv\\lib\\site-packages (from langchain) (2.8.2)\n",
      "Requirement already satisfied: numpy<2,>=1 in d:\\prog\\aiml proj\\lcel\\venv\\lib\\site-packages (from langchain) (1.26.4)\n",
      "Requirement already satisfied: langchain-text-splitters<0.3.0,>=0.2.0 in d:\\prog\\aiml proj\\lcel\\venv\\lib\\site-packages (from langchain) (0.2.2)\n",
      "Requirement already satisfied: multidict<7.0,>=4.5 in d:\\prog\\aiml proj\\lcel\\venv\\lib\\site-packages (from aiohttp<4.0.0,>=3.8.3->langchain) (6.0.5)\n",
      "Requirement already satisfied: aiosignal>=1.1.2 in d:\\prog\\aiml proj\\lcel\\venv\\lib\\site-packages (from aiohttp<4.0.0,>=3.8.3->langchain) (1.3.1)\n",
      "Requirement already satisfied: frozenlist>=1.1.1 in d:\\prog\\aiml proj\\lcel\\venv\\lib\\site-packages (from aiohttp<4.0.0,>=3.8.3->langchain) (1.4.1)\n",
      "Requirement already satisfied: yarl<2.0,>=1.0 in d:\\prog\\aiml proj\\lcel\\venv\\lib\\site-packages (from aiohttp<4.0.0,>=3.8.3->langchain) (1.9.4)\n",
      "Requirement already satisfied: aiohappyeyeballs>=2.3.0 in d:\\prog\\aiml proj\\lcel\\venv\\lib\\site-packages (from aiohttp<4.0.0,>=3.8.3->langchain) (2.3.5)\n",
      "Requirement already satisfied: attrs>=17.3.0 in d:\\prog\\aiml proj\\lcel\\venv\\lib\\site-packages (from aiohttp<4.0.0,>=3.8.3->langchain) (24.2.0)\n",
      "Requirement already satisfied: packaging<25,>=23.2 in d:\\prog\\aiml proj\\lcel\\venv\\lib\\site-packages (from langchain-core<0.3.0,>=0.2.32->langchain) (24.1)\n",
      "Requirement already satisfied: jsonpatch<2.0,>=1.33 in d:\\prog\\aiml proj\\lcel\\venv\\lib\\site-packages (from langchain-core<0.3.0,>=0.2.32->langchain) (1.33)\n",
      "Requirement already satisfied: typing-extensions>=4.7 in d:\\prog\\aiml proj\\lcel\\venv\\lib\\site-packages (from langchain-core<0.3.0,>=0.2.32->langchain) (4.12.2)\n",
      "Requirement already satisfied: jsonpointer>=1.9 in d:\\prog\\aiml proj\\lcel\\venv\\lib\\site-packages (from jsonpatch<2.0,>=1.33->langchain-core<0.3.0,>=0.2.32->langchain) (3.0.0)\n",
      "Requirement already satisfied: orjson<4.0.0,>=3.9.14 in d:\\prog\\aiml proj\\lcel\\venv\\lib\\site-packages (from langsmith<0.2.0,>=0.1.17->langchain) (3.10.7)\n",
      "Requirement already satisfied: pydantic-core==2.20.1 in d:\\prog\\aiml proj\\lcel\\venv\\lib\\site-packages (from pydantic<3,>=1->langchain) (2.20.1)\n",
      "Requirement already satisfied: annotated-types>=0.4.0 in d:\\prog\\aiml proj\\lcel\\venv\\lib\\site-packages (from pydantic<3,>=1->langchain) (0.7.0)\n",
      "Requirement already satisfied: idna<4,>=2.5 in d:\\prog\\aiml proj\\lcel\\venv\\lib\\site-packages (from requests<3,>=2->langchain) (3.7)\n",
      "Requirement already satisfied: urllib3<3,>=1.21.1 in d:\\prog\\aiml proj\\lcel\\venv\\lib\\site-packages (from requests<3,>=2->langchain) (2.2.2)\n",
      "Requirement already satisfied: certifi>=2017.4.17 in d:\\prog\\aiml proj\\lcel\\venv\\lib\\site-packages (from requests<3,>=2->langchain) (2024.7.4)\n",
      "Requirement already satisfied: charset-normalizer<4,>=2 in d:\\prog\\aiml proj\\lcel\\venv\\lib\\site-packages (from requests<3,>=2->langchain) (3.3.2)\n",
      "Requirement already satisfied: greenlet!=0.4.17 in d:\\prog\\aiml proj\\lcel\\venv\\lib\\site-packages (from SQLAlchemy<3,>=1.4->langchain) (3.0.3)\n",
      "Note: you may need to restart the kernel to use updated packages.\n"
     ]
    },
    {
     "name": "stderr",
     "output_type": "stream",
     "text": [
      "WARNING: You are using pip version 21.2.3; however, version 24.2 is available.\n",
      "You should consider upgrading via the 'd:\\prog\\AIML PROJ\\LCEL\\venv\\Scripts\\python.exe -m pip install --upgrade pip' command.\n"
     ]
    }
   ],
   "source": [
    "%pip install langchain"
   ]
  },
  {
   "cell_type": "code",
   "execution_count": 3,
   "metadata": {},
   "outputs": [
    {
     "name": "stdout",
     "output_type": "stream",
     "text": [
      "GROQ_API_KEY: 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\n"
     ]
    }
   ],
   "source": [
    "import os\n",
    "from dotenv import load_dotenv\n",
    "\n",
    "load_dotenv()  # Load environment variables from a .env file\n",
    "\n",
    "groq_api_key = os.getenv(\"GROQ_API_KEY\")\n",
    "print(\"GROQ_API_KEY:\", groq_api_key)\n"
   ]
  },
  {
   "cell_type": "code",
   "execution_count": 4,
   "metadata": {},
   "outputs": [
    {
     "data": {
      "text/plain": [
       "'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'"
      ]
     },
     "execution_count": 4,
     "metadata": {},
     "output_type": "execute_result"
    }
   ],
   "source": [
    "### Open AI API Key and Open Source models--Llama3,Gemma2,mistral--Groq\n",
    "\n",
    "import os\n",
    "from dotenv import load_dotenv\n",
    "load_dotenv()\n",
    "\n",
    "import openai\n",
    "openai.api_key=os.getenv(\"OPENAI_API_KEY\")\n",
    "\n",
    "groq_api_key=os.getenv(\"GROQ_API_KEY\")\n",
    "groq_api_key"
   ]
  },
  {
   "cell_type": "code",
   "execution_count": 5,
   "metadata": {},
   "outputs": [
    {
     "name": "stdout",
     "output_type": "stream",
     "text": [
      "Requirement already satisfied: langchain_groq in d:\\prog\\aiml proj\\lcel\\venv\\lib\\site-packages (0.1.9)\n",
      "Requirement already satisfied: groq<1,>=0.4.1 in d:\\prog\\aiml proj\\lcel\\venv\\lib\\site-packages (from langchain_groq) (0.9.0)\n",
      "Requirement already satisfied: langchain-core<0.3.0,>=0.2.26 in d:\\prog\\aiml proj\\lcel\\venv\\lib\\site-packages (from langchain_groq) (0.2.32)\n",
      "Requirement already satisfied: pydantic<3,>=1.9.0 in d:\\prog\\aiml proj\\lcel\\venv\\lib\\site-packages (from groq<1,>=0.4.1->langchain_groq) (2.8.2)\n",
      "Requirement already satisfied: anyio<5,>=3.5.0 in d:\\prog\\aiml proj\\lcel\\venv\\lib\\site-packages (from groq<1,>=0.4.1->langchain_groq) (4.4.0)\n",
      "Requirement already satisfied: httpx<1,>=0.23.0 in d:\\prog\\aiml proj\\lcel\\venv\\lib\\site-packages (from groq<1,>=0.4.1->langchain_groq) (0.27.0)\n",
      "Requirement already satisfied: distro<2,>=1.7.0 in d:\\prog\\aiml proj\\lcel\\venv\\lib\\site-packages (from groq<1,>=0.4.1->langchain_groq) (1.9.0)\n",
      "Requirement already satisfied: sniffio in d:\\prog\\aiml proj\\lcel\\venv\\lib\\site-packages (from groq<1,>=0.4.1->langchain_groq) (1.3.1)\n",
      "Requirement already satisfied: typing-extensions<5,>=4.7 in d:\\prog\\aiml proj\\lcel\\venv\\lib\\site-packages (from groq<1,>=0.4.1->langchain_groq) (4.12.2)\n",
      "Requirement already satisfied: exceptiongroup>=1.0.2 in d:\\prog\\aiml proj\\lcel\\venv\\lib\\site-packages (from anyio<5,>=3.5.0->groq<1,>=0.4.1->langchain_groq) (1.2.2)\n",
      "Requirement already satisfied: idna>=2.8 in d:\\prog\\aiml proj\\lcel\\venv\\lib\\site-packages (from anyio<5,>=3.5.0->groq<1,>=0.4.1->langchain_groq) (3.7)\n",
      "Requirement already satisfied: httpcore==1.* in d:\\prog\\aiml proj\\lcel\\venv\\lib\\site-packages (from httpx<1,>=0.23.0->groq<1,>=0.4.1->langchain_groq) (1.0.5)\n",
      "Requirement already satisfied: certifi in d:\\prog\\aiml proj\\lcel\\venv\\lib\\site-packages (from httpx<1,>=0.23.0->groq<1,>=0.4.1->langchain_groq) (2024.7.4)\n",
      "Requirement already satisfied: h11<0.15,>=0.13 in d:\\prog\\aiml proj\\lcel\\venv\\lib\\site-packages (from httpcore==1.*->httpx<1,>=0.23.0->groq<1,>=0.4.1->langchain_groq) (0.14.0)\n",
      "Requirement already satisfied: jsonpatch<2.0,>=1.33 in d:\\prog\\aiml proj\\lcel\\venv\\lib\\site-packages (from langchain-core<0.3.0,>=0.2.26->langchain_groq) (1.33)\n",
      "Requirement already satisfied: langsmith<0.2.0,>=0.1.75 in d:\\prog\\aiml proj\\lcel\\venv\\lib\\site-packages (from langchain-core<0.3.0,>=0.2.26->langchain_groq) (0.1.99)\n",
      "Requirement already satisfied: PyYAML>=5.3 in d:\\prog\\aiml proj\\lcel\\venv\\lib\\site-packages (from langchain-core<0.3.0,>=0.2.26->langchain_groq) (6.0.2)\n",
      "Requirement already satisfied: tenacity!=8.4.0,<9.0.0,>=8.1.0 in d:\\prog\\aiml proj\\lcel\\venv\\lib\\site-packages (from langchain-core<0.3.0,>=0.2.26->langchain_groq) (8.5.0)\n",
      "Requirement already satisfied: packaging<25,>=23.2 in d:\\prog\\aiml proj\\lcel\\venv\\lib\\site-packages (from langchain-core<0.3.0,>=0.2.26->langchain_groq) (24.1)\n",
      "Requirement already satisfied: jsonpointer>=1.9 in d:\\prog\\aiml proj\\lcel\\venv\\lib\\site-packages (from jsonpatch<2.0,>=1.33->langchain-core<0.3.0,>=0.2.26->langchain_groq) (3.0.0)\n",
      "Requirement already satisfied: requests<3,>=2 in d:\\prog\\aiml proj\\lcel\\venv\\lib\\site-packages (from langsmith<0.2.0,>=0.1.75->langchain-core<0.3.0,>=0.2.26->langchain_groq) (2.32.3)\n",
      "Requirement already satisfied: orjson<4.0.0,>=3.9.14 in d:\\prog\\aiml proj\\lcel\\venv\\lib\\site-packages (from langsmith<0.2.0,>=0.1.75->langchain-core<0.3.0,>=0.2.26->langchain_groq) (3.10.7)\n",
      "Requirement already satisfied: pydantic-core==2.20.1 in d:\\prog\\aiml proj\\lcel\\venv\\lib\\site-packages (from pydantic<3,>=1.9.0->groq<1,>=0.4.1->langchain_groq) (2.20.1)\n",
      "Requirement already satisfied: annotated-types>=0.4.0 in d:\\prog\\aiml proj\\lcel\\venv\\lib\\site-packages (from pydantic<3,>=1.9.0->groq<1,>=0.4.1->langchain_groq) (0.7.0)\n",
      "Requirement already satisfied: urllib3<3,>=1.21.1 in d:\\prog\\aiml proj\\lcel\\venv\\lib\\site-packages (from requests<3,>=2->langsmith<0.2.0,>=0.1.75->langchain-core<0.3.0,>=0.2.26->langchain_groq) (2.2.2)\n",
      "Requirement already satisfied: charset-normalizer<4,>=2 in d:\\prog\\aiml proj\\lcel\\venv\\lib\\site-packages (from requests<3,>=2->langsmith<0.2.0,>=0.1.75->langchain-core<0.3.0,>=0.2.26->langchain_groq) (3.3.2)\n"
     ]
    },
    {
     "name": "stderr",
     "output_type": "stream",
     "text": [
      "WARNING: You are using pip version 21.2.3; however, version 24.2 is available.\n",
      "You should consider upgrading via the 'D:\\prog\\AIML PROJ\\LCEL\\venv\\Scripts\\python.exe -m pip install --upgrade pip' command.\n"
     ]
    }
   ],
   "source": [
    "%pip install langchain_groq"
   ]
  },
  {
   "cell_type": "code",
   "execution_count": 6,
   "metadata": {},
   "outputs": [
    {
     "data": {
      "text/plain": [
       "ChatGroq(client=<groq.resources.chat.completions.Completions object at 0x000002517CDA5810>, async_client=<groq.resources.chat.completions.AsyncCompletions object at 0x000002517CDA6350>, model_name='Gemma2-9b-It', groq_api_key=SecretStr('**********'))"
      ]
     },
     "execution_count": 6,
     "metadata": {},
     "output_type": "execute_result"
    }
   ],
   "source": [
    "from langchain_openai import ChatOpenAI\n",
    "from langchain_groq import ChatGroq\n",
    "model=ChatGroq(model=\"Gemma2-9b-It\",groq_api_key=groq_api_key)\n",
    "model"
   ]
  },
  {
   "cell_type": "code",
   "execution_count": 7,
   "metadata": {},
   "outputs": [
    {
     "name": "stdout",
     "output_type": "stream",
     "text": [
      "Requirement already satisfied: langchain_core in d:\\prog\\aiml proj\\lcel\\venv\\lib\\site-packages (0.2.32)\n",
      "Requirement already satisfied: pydantic<3,>=1 in d:\\prog\\aiml proj\\lcel\\venv\\lib\\site-packages (from langchain_core) (2.8.2)\n",
      "Requirement already satisfied: typing-extensions>=4.7 in d:\\prog\\aiml proj\\lcel\\venv\\lib\\site-packages (from langchain_core) (4.12.2)\n",
      "Requirement already satisfied: jsonpatch<2.0,>=1.33 in d:\\prog\\aiml proj\\lcel\\venv\\lib\\site-packages (from langchain_core) (1.33)\n",
      "Requirement already satisfied: packaging<25,>=23.2 in d:\\prog\\aiml proj\\lcel\\venv\\lib\\site-packages (from langchain_core) (24.1)\n",
      "Requirement already satisfied: langsmith<0.2.0,>=0.1.75 in d:\\prog\\aiml proj\\lcel\\venv\\lib\\site-packages (from langchain_core) (0.1.99)\n",
      "Requirement already satisfied: tenacity!=8.4.0,<9.0.0,>=8.1.0 in d:\\prog\\aiml proj\\lcel\\venv\\lib\\site-packages (from langchain_core) (8.5.0)\n",
      "Requirement already satisfied: PyYAML>=5.3 in d:\\prog\\aiml proj\\lcel\\venv\\lib\\site-packages (from langchain_core) (6.0.2)\n",
      "Requirement already satisfied: jsonpointer>=1.9 in d:\\prog\\aiml proj\\lcel\\venv\\lib\\site-packages (from jsonpatch<2.0,>=1.33->langchain_core) (3.0.0)\n",
      "Requirement already satisfied: requests<3,>=2 in d:\\prog\\aiml proj\\lcel\\venv\\lib\\site-packages (from langsmith<0.2.0,>=0.1.75->langchain_core) (2.32.3)\n",
      "Requirement already satisfied: orjson<4.0.0,>=3.9.14 in d:\\prog\\aiml proj\\lcel\\venv\\lib\\site-packages (from langsmith<0.2.0,>=0.1.75->langchain_core) (3.10.7)\n",
      "Requirement already satisfied: pydantic-core==2.20.1 in d:\\prog\\aiml proj\\lcel\\venv\\lib\\site-packages (from pydantic<3,>=1->langchain_core) (2.20.1)\n",
      "Requirement already satisfied: annotated-types>=0.4.0 in d:\\prog\\aiml proj\\lcel\\venv\\lib\\site-packages (from pydantic<3,>=1->langchain_core) (0.7.0)\n",
      "Requirement already satisfied: certifi>=2017.4.17 in d:\\prog\\aiml proj\\lcel\\venv\\lib\\site-packages (from requests<3,>=2->langsmith<0.2.0,>=0.1.75->langchain_core) (2024.7.4)\n",
      "Requirement already satisfied: urllib3<3,>=1.21.1 in d:\\prog\\aiml proj\\lcel\\venv\\lib\\site-packages (from requests<3,>=2->langsmith<0.2.0,>=0.1.75->langchain_core) (2.2.2)\n",
      "Requirement already satisfied: idna<4,>=2.5 in d:\\prog\\aiml proj\\lcel\\venv\\lib\\site-packages (from requests<3,>=2->langsmith<0.2.0,>=0.1.75->langchain_core) (3.7)\n",
      "Requirement already satisfied: charset-normalizer<4,>=2 in d:\\prog\\aiml proj\\lcel\\venv\\lib\\site-packages (from requests<3,>=2->langsmith<0.2.0,>=0.1.75->langchain_core) (3.3.2)\n",
      "Note: you may need to restart the kernel to use updated packages.\n"
     ]
    },
    {
     "name": "stderr",
     "output_type": "stream",
     "text": [
      "WARNING: You are using pip version 21.2.3; however, version 24.2 is available.\n",
      "You should consider upgrading via the 'd:\\prog\\AIML PROJ\\LCEL\\venv\\Scripts\\python.exe -m pip install --upgrade pip' command.\n"
     ]
    }
   ],
   "source": [
    "%pip install langchain_core"
   ]
  },
  {
   "cell_type": "code",
   "execution_count": 8,
   "metadata": {},
   "outputs": [],
   "source": [
    "from langchain_core.messages import HumanMessage,SystemMessage\n",
    "\n",
    "messages=[\n",
    "    SystemMessage(content=\"Translate the following from English to French\"),\n",
    "    HumanMessage(content=\"Hello How are you?\")\n",
    "]\n",
    "\n",
    "result=model.invoke(messages)"
   ]
  },
  {
   "cell_type": "code",
   "execution_count": 9,
   "metadata": {},
   "outputs": [
    {
     "data": {
      "text/plain": [
       "AIMessage(content='Bonjour, comment allez-vous ? \\n', response_metadata={'token_usage': {'completion_tokens': 11, 'prompt_tokens': 26, 'total_tokens': 37, 'completion_time': 0.021020301, 'prompt_time': 0.002629849, 'queue_time': None, 'total_time': 0.02365015}, 'model_name': 'Gemma2-9b-It', 'system_fingerprint': 'fp_10c08bf97d', 'finish_reason': 'stop', 'logprobs': None}, id='run-0b8a0a24-2cde-4db5-b901-c48dd0f736bf-0', usage_metadata={'input_tokens': 26, 'output_tokens': 11, 'total_tokens': 37})"
      ]
     },
     "execution_count": 9,
     "metadata": {},
     "output_type": "execute_result"
    }
   ],
   "source": [
    "result"
   ]
  },
  {
   "cell_type": "code",
   "execution_count": 10,
   "metadata": {},
   "outputs": [
    {
     "data": {
      "text/plain": [
       "'Bonjour, comment allez-vous ? \\n'"
      ]
     },
     "execution_count": 10,
     "metadata": {},
     "output_type": "execute_result"
    }
   ],
   "source": [
    "from langchain_core.output_parsers import StrOutputParser\n",
    "parser=StrOutputParser()\n",
    "parser.invoke(result)"
   ]
  },
  {
   "cell_type": "code",
   "execution_count": 11,
   "metadata": {},
   "outputs": [
    {
     "data": {
      "text/plain": [
       "'Bonjour, comment allez-vous ? \\n\\n\\nYou can also say:\\n\\n* Salut, comment vas-tu ? (More informal) \\n\\n'"
      ]
     },
     "execution_count": 11,
     "metadata": {},
     "output_type": "execute_result"
    }
   ],
   "source": [
    "### Using LCEL- chain the components\n",
    "chain=model|parser\n",
    "chain.invoke(messages)"
   ]
  },
  {
   "cell_type": "code",
   "execution_count": 12,
   "metadata": {},
   "outputs": [],
   "source": [
    "### Prompt Templates\n",
    "from langchain_core.prompts import ChatPromptTemplate\n",
    "\n",
    "generic_template=\"Trnaslate the following into {language}:\"\n",
    "\n",
    "prompt=ChatPromptTemplate.from_messages(\n",
    "    [(\"system\",generic_template),(\"user\",\"{text}\")]\n",
    ")\n",
    "\n"
   ]
  },
  {
   "cell_type": "code",
   "execution_count": 13,
   "metadata": {},
   "outputs": [],
   "source": [
    "result=prompt.invoke({\"language\":\"French\",\"text\":\"Hello\"})"
   ]
  },
  {
   "cell_type": "code",
   "execution_count": 14,
   "metadata": {},
   "outputs": [
    {
     "data": {
      "text/plain": [
       "[SystemMessage(content='Trnaslate the following into French:'),\n",
       " HumanMessage(content='Hello')]"
      ]
     },
     "execution_count": 14,
     "metadata": {},
     "output_type": "execute_result"
    }
   ],
   "source": [
    "result.to_messages()"
   ]
  },
  {
   "cell_type": "code",
   "execution_count": 15,
   "metadata": {},
   "outputs": [
    {
     "data": {
      "text/plain": [
       "'Bonjour \\n'"
      ]
     },
     "execution_count": 15,
     "metadata": {},
     "output_type": "execute_result"
    }
   ],
   "source": [
    "##Chaining together components with LCEL\n",
    "chain=prompt|model|parser\n",
    "chain.invoke({\"language\":\"French\",\"text\":\"Hello\"})"
   ]
  },
  {
   "cell_type": "code",
   "execution_count": 16,
   "metadata": {},
   "outputs": [
    {
     "name": "stdout",
     "output_type": "stream",
     "text": [
      "Requirement already satisfied: streamlit in d:\\prog\\aiml proj\\lcel\\venv\\lib\\site-packages (1.37.1)\n",
      "Requirement already satisfied: pandas<3,>=1.3.0 in d:\\prog\\aiml proj\\lcel\\venv\\lib\\site-packages (from streamlit) (2.2.2)\n",
      "Requirement already satisfied: cachetools<6,>=4.0 in d:\\prog\\aiml proj\\lcel\\venv\\lib\\site-packages (from streamlit) (5.4.0)\n",
      "Requirement already satisfied: click<9,>=7.0 in d:\\prog\\aiml proj\\lcel\\venv\\lib\\site-packages (from streamlit) (8.1.7)\n",
      "Requirement already satisfied: gitpython!=3.1.19,<4,>=3.0.7 in d:\\prog\\aiml proj\\lcel\\venv\\lib\\site-packages (from streamlit) (3.1.43)\n",
      "Requirement already satisfied: tornado<7,>=6.0.3 in d:\\prog\\aiml proj\\lcel\\venv\\lib\\site-packages (from streamlit) (6.4.1)\n",
      "Requirement already satisfied: pillow<11,>=7.1.0 in d:\\prog\\aiml proj\\lcel\\venv\\lib\\site-packages (from streamlit) (10.4.0)\n",
      "Requirement already satisfied: packaging<25,>=20 in d:\\prog\\aiml proj\\lcel\\venv\\lib\\site-packages (from streamlit) (24.1)\n",
      "Requirement already satisfied: altair<6,>=4.0 in d:\\prog\\aiml proj\\lcel\\venv\\lib\\site-packages (from streamlit) (5.4.0)\n",
      "Requirement already satisfied: toml<2,>=0.10.1 in d:\\prog\\aiml proj\\lcel\\venv\\lib\\site-packages (from streamlit) (0.10.2)\n",
      "Requirement already satisfied: protobuf<6,>=3.20 in d:\\prog\\aiml proj\\lcel\\venv\\lib\\site-packages (from streamlit) (4.25.4)\n",
      "Requirement already satisfied: rich<14,>=10.14.0 in d:\\prog\\aiml proj\\lcel\\venv\\lib\\site-packages (from streamlit) (13.7.1)\n",
      "Requirement already satisfied: tenacity<9,>=8.1.0 in d:\\prog\\aiml proj\\lcel\\venv\\lib\\site-packages (from streamlit) (8.5.0)\n",
      "Requirement already satisfied: watchdog<5,>=2.1.5 in d:\\prog\\aiml proj\\lcel\\venv\\lib\\site-packages (from streamlit) (4.0.2)\n",
      "Requirement already satisfied: numpy<3,>=1.20 in d:\\prog\\aiml proj\\lcel\\venv\\lib\\site-packages (from streamlit) (1.26.4)\n",
      "Requirement already satisfied: pydeck<1,>=0.8.0b4 in d:\\prog\\aiml proj\\lcel\\venv\\lib\\site-packages (from streamlit) (0.9.1)\n",
      "Requirement already satisfied: requests<3,>=2.27 in d:\\prog\\aiml proj\\lcel\\venv\\lib\\site-packages (from streamlit) (2.32.3)\n",
      "Requirement already satisfied: typing-extensions<5,>=4.3.0 in d:\\prog\\aiml proj\\lcel\\venv\\lib\\site-packages (from streamlit) (4.12.2)\n",
      "Requirement already satisfied: blinker<2,>=1.0.0 in d:\\prog\\aiml proj\\lcel\\venv\\lib\\site-packages (from streamlit) (1.8.2)\n",
      "Requirement already satisfied: pyarrow>=7.0 in d:\\prog\\aiml proj\\lcel\\venv\\lib\\site-packages (from streamlit) (17.0.0)\n",
      "Requirement already satisfied: jsonschema>=3.0 in d:\\prog\\aiml proj\\lcel\\venv\\lib\\site-packages (from altair<6,>=4.0->streamlit) (4.23.0)\n",
      "Requirement already satisfied: jinja2 in d:\\prog\\aiml proj\\lcel\\venv\\lib\\site-packages (from altair<6,>=4.0->streamlit) (3.1.4)\n",
      "Requirement already satisfied: narwhals>=1.1.0 in d:\\prog\\aiml proj\\lcel\\venv\\lib\\site-packages (from altair<6,>=4.0->streamlit) (1.4.1)\n",
      "Requirement already satisfied: colorama in d:\\prog\\aiml proj\\lcel\\venv\\lib\\site-packages (from click<9,>=7.0->streamlit) (0.4.6)\n",
      "Requirement already satisfied: gitdb<5,>=4.0.1 in d:\\prog\\aiml proj\\lcel\\venv\\lib\\site-packages (from gitpython!=3.1.19,<4,>=3.0.7->streamlit) (4.0.11)\n",
      "Requirement already satisfied: smmap<6,>=3.0.1 in d:\\prog\\aiml proj\\lcel\\venv\\lib\\site-packages (from gitdb<5,>=4.0.1->gitpython!=3.1.19,<4,>=3.0.7->streamlit) (5.0.1)\n",
      "Requirement already satisfied: referencing>=0.28.4 in d:\\prog\\aiml proj\\lcel\\venv\\lib\\site-packages (from jsonschema>=3.0->altair<6,>=4.0->streamlit) (0.35.1)\n",
      "Requirement already satisfied: rpds-py>=0.7.1 in d:\\prog\\aiml proj\\lcel\\venv\\lib\\site-packages (from jsonschema>=3.0->altair<6,>=4.0->streamlit) (0.20.0)\n",
      "Requirement already satisfied: attrs>=22.2.0 in d:\\prog\\aiml proj\\lcel\\venv\\lib\\site-packages (from jsonschema>=3.0->altair<6,>=4.0->streamlit) (24.2.0)\n",
      "Requirement already satisfied: jsonschema-specifications>=2023.03.6 in d:\\prog\\aiml proj\\lcel\\venv\\lib\\site-packages (from jsonschema>=3.0->altair<6,>=4.0->streamlit) (2023.12.1)\n",
      "Requirement already satisfied: python-dateutil>=2.8.2 in d:\\prog\\aiml proj\\lcel\\venv\\lib\\site-packages (from pandas<3,>=1.3.0->streamlit) (2.9.0.post0)\n",
      "Requirement already satisfied: pytz>=2020.1 in d:\\prog\\aiml proj\\lcel\\venv\\lib\\site-packages (from pandas<3,>=1.3.0->streamlit) (2024.1)\n",
      "Requirement already satisfied: tzdata>=2022.7 in d:\\prog\\aiml proj\\lcel\\venv\\lib\\site-packages (from pandas<3,>=1.3.0->streamlit) (2024.1)\n",
      "Requirement already satisfied: MarkupSafe>=2.0 in d:\\prog\\aiml proj\\lcel\\venv\\lib\\site-packages (from jinja2->altair<6,>=4.0->streamlit) (2.1.5)\n",
      "Requirement already satisfied: six>=1.5 in d:\\prog\\aiml proj\\lcel\\venv\\lib\\site-packages (from python-dateutil>=2.8.2->pandas<3,>=1.3.0->streamlit) (1.16.0)\n",
      "Requirement already satisfied: idna<4,>=2.5 in d:\\prog\\aiml proj\\lcel\\venv\\lib\\site-packages (from requests<3,>=2.27->streamlit) (3.7)\n",
      "Requirement already satisfied: certifi>=2017.4.17 in d:\\prog\\aiml proj\\lcel\\venv\\lib\\site-packages (from requests<3,>=2.27->streamlit) (2024.7.4)\n",
      "Requirement already satisfied: charset-normalizer<4,>=2 in d:\\prog\\aiml proj\\lcel\\venv\\lib\\site-packages (from requests<3,>=2.27->streamlit) (3.3.2)\n",
      "Requirement already satisfied: urllib3<3,>=1.21.1 in d:\\prog\\aiml proj\\lcel\\venv\\lib\\site-packages (from requests<3,>=2.27->streamlit) (2.2.2)\n",
      "Requirement already satisfied: pygments<3.0.0,>=2.13.0 in d:\\prog\\aiml proj\\lcel\\venv\\lib\\site-packages (from rich<14,>=10.14.0->streamlit) (2.18.0)\n",
      "Requirement already satisfied: markdown-it-py>=2.2.0 in d:\\prog\\aiml proj\\lcel\\venv\\lib\\site-packages (from rich<14,>=10.14.0->streamlit) (3.0.0)\n",
      "Requirement already satisfied: mdurl~=0.1 in d:\\prog\\aiml proj\\lcel\\venv\\lib\\site-packages (from markdown-it-py>=2.2.0->rich<14,>=10.14.0->streamlit) (0.1.2)\n"
     ]
    },
    {
     "name": "stderr",
     "output_type": "stream",
     "text": [
      "WARNING: You are using pip version 21.2.3; however, version 24.2 is available.\n",
      "You should consider upgrading via the 'D:\\prog\\AIML PROJ\\LCEL\\venv\\Scripts\\python.exe -m pip install --upgrade pip' command.\n"
     ]
    }
   ],
   "source": [
    "%pip install streamlit"
   ]
  }
 ],
 "metadata": {
  "kernelspec": {
   "display_name": "Python 3",
   "language": "python",
   "name": "python3"
  },
  "language_info": {
   "codemirror_mode": {
    "name": "ipython",
    "version": 3
   },
   "file_extension": ".py",
   "mimetype": "text/x-python",
   "name": "python",
   "nbconvert_exporter": "python",
   "pygments_lexer": "ipython3",
   "version": "3.10.0"
  }
 },
 "nbformat": 4,
 "nbformat_minor": 2
}
